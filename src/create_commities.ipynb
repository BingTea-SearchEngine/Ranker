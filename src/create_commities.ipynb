{
 "cells": [
  {
   "cell_type": "code",
   "execution_count": 1,
   "id": "0c9f62ba",
   "metadata": {},
   "outputs": [],
   "source": [
    "import sys\n",
    "import numpy as np\n",
    "import matplotlib as mpl\n",
    "import matplotlib.pyplot as plt"
   ]
  },
  {
   "cell_type": "code",
   "execution_count": 2,
   "id": "debba43a",
   "metadata": {},
   "outputs": [],
   "source": [
    "N = 100"
   ]
  },
  {
   "cell_type": "code",
   "execution_count": 3,
   "id": "84b405c9",
   "metadata": {},
   "outputs": [],
   "source": [
    "reverse_communities = np.fromfile('../data/links.rcomm', dtype='<u4')\n",
    "buckets = np.zeros(np.max(reverse_communities + 1), dtype=int)\n",
    "for value in reverse_communities:\n",
    "    buckets[value] += 1"
   ]
  },
  {
   "cell_type": "code",
   "execution_count": 4,
   "id": "14e71873",
   "metadata": {},
   "outputs": [],
   "source": [
    "indices = np.argsort(buckets)[::-1]\n",
    "community_map = {}\n",
    "for idx, value in enumerate(indices[:N]):\n",
    "    community_map[value] = idx"
   ]
  },
  {
   "cell_type": "code",
   "execution_count": 5,
   "id": "c9b6f0c1",
   "metadata": {},
   "outputs": [],
   "source": [
    "grouped_communities = np.zeros_like(reverse_communities)\n",
    "for idx, value in enumerate(reverse_communities):\n",
    "    if value in community_map:\n",
    "        grouped_communities[idx] = community_map[value]\n",
    "    else:\n",
    "        grouped_communities[idx] = N"
   ]
  },
  {
   "cell_type": "code",
   "execution_count": 6,
   "id": "b669357d",
   "metadata": {},
   "outputs": [],
   "source": [
    "new_buckets = np.zeros(np.max(grouped_communities + 1), dtype=int)\n",
    "for value in grouped_communities:\n",
    "    new_buckets[value] += 1\n",
    "new_indices = np.argsort(new_buckets)[::-1]"
   ]
  },
  {
   "cell_type": "code",
   "execution_count": 7,
   "id": "2a44a9da",
   "metadata": {},
   "outputs": [
    {
     "data": {
      "text/plain": [
       "{np.int64(0): 0,\n",
       " np.int64(3): 1,\n",
       " np.int64(202): 2,\n",
       " np.int64(859): 3,\n",
       " np.int64(433): 4,\n",
       " np.int64(26): 5,\n",
       " np.int64(1300): 6,\n",
       " np.int64(954): 7,\n",
       " np.int64(4203): 8,\n",
       " np.int64(10110): 9,\n",
       " np.int64(990): 10,\n",
       " np.int64(3076): 11,\n",
       " np.int64(4665): 12,\n",
       " np.int64(7334): 13,\n",
       " np.int64(7721): 14,\n",
       " np.int64(8721): 15,\n",
       " np.int64(21035): 16,\n",
       " np.int64(2590): 17,\n",
       " np.int64(7024): 18,\n",
       " np.int64(2556): 19,\n",
       " np.int64(15220): 20,\n",
       " np.int64(7901): 21,\n",
       " np.int64(15371): 22,\n",
       " np.int64(1136): 23,\n",
       " np.int64(18657): 24,\n",
       " np.int64(1031): 25,\n",
       " np.int64(440): 26,\n",
       " np.int64(35108): 27,\n",
       " np.int64(12718): 28,\n",
       " np.int64(2727): 29,\n",
       " np.int64(8856): 30,\n",
       " np.int64(10550): 31,\n",
       " np.int64(6111): 32,\n",
       " np.int64(26906): 33,\n",
       " np.int64(18755): 34,\n",
       " np.int64(32772): 35,\n",
       " np.int64(8171): 36,\n",
       " np.int64(32116): 37,\n",
       " np.int64(27787): 38,\n",
       " np.int64(15554): 39,\n",
       " np.int64(8593): 40,\n",
       " np.int64(44190): 41,\n",
       " np.int64(21498): 42,\n",
       " np.int64(31751): 43,\n",
       " np.int64(41260): 44,\n",
       " np.int64(789): 45,\n",
       " np.int64(3707): 46,\n",
       " np.int64(34): 47,\n",
       " np.int64(11529): 48,\n",
       " np.int64(9275): 49,\n",
       " np.int64(24070): 50,\n",
       " np.int64(12584): 51,\n",
       " np.int64(32553): 52,\n",
       " np.int64(15246): 53,\n",
       " np.int64(9214): 54,\n",
       " np.int64(53059): 55,\n",
       " np.int64(15928): 56,\n",
       " np.int64(18581): 57,\n",
       " np.int64(44185): 58,\n",
       " np.int64(56388): 59,\n",
       " np.int64(82005): 60,\n",
       " np.int64(1935): 61,\n",
       " np.int64(10469): 62,\n",
       " np.int64(47140): 63,\n",
       " np.int64(28042): 64,\n",
       " np.int64(15906): 65,\n",
       " np.int64(37378): 66,\n",
       " np.int64(10122): 67,\n",
       " np.int64(25891): 68,\n",
       " np.int64(19822): 69,\n",
       " np.int64(787): 70,\n",
       " np.int64(11807): 71,\n",
       " np.int64(2833): 72,\n",
       " np.int64(19954): 73,\n",
       " np.int64(119774): 74,\n",
       " np.int64(51964): 75,\n",
       " np.int64(22350): 76,\n",
       " np.int64(105199): 77,\n",
       " np.int64(8741): 78,\n",
       " np.int64(28057): 79,\n",
       " np.int64(1509): 80,\n",
       " np.int64(51959): 81,\n",
       " np.int64(1560): 82,\n",
       " np.int64(169282): 83,\n",
       " np.int64(47916): 84,\n",
       " np.int64(750): 85,\n",
       " np.int64(19899): 86,\n",
       " np.int64(46832): 87,\n",
       " np.int64(8847): 88,\n",
       " np.int64(6366): 89,\n",
       " np.int64(5066): 90,\n",
       " np.int64(16962): 91,\n",
       " np.int64(107528): 92,\n",
       " np.int64(85832): 93,\n",
       " np.int64(45963): 94,\n",
       " np.int64(19967): 95,\n",
       " np.int64(54269): 96,\n",
       " np.int64(239552): 97,\n",
       " np.int64(51547): 98,\n",
       " np.int64(14820): 99}"
      ]
     },
     "execution_count": 7,
     "metadata": {},
     "output_type": "execute_result"
    }
   ],
   "source": [
    "community_map"
   ]
  },
  {
   "cell_type": "code",
   "execution_count": 8,
   "id": "48d24697",
   "metadata": {},
   "outputs": [],
   "source": [
    "with open('../data/links_communities.txt', 'w') as f:\n",
    "    for value in grouped_communities:\n",
    "        f.write(str(value) + '\\n')"
   ]
  },
  {
   "cell_type": "code",
   "execution_count": 9,
   "id": "2b05d999",
   "metadata": {},
   "outputs": [],
   "source": [
    "with open('../data/links_community_counts.txt', 'w') as f:\n",
    "    for value in reverse_communities:\n",
    "        f.write(str(buckets[value]) + '\\n')"
   ]
  },
  {
   "cell_type": "code",
   "execution_count": 10,
   "id": "afa1e4ae",
   "metadata": {},
   "outputs": [],
   "source": [
    "with open('../data/community_counts.txt', 'w') as f:\n",
    "    for value in indices[:N]:\n",
    "        f.write(str(buckets[value]) + '\\n')\n",
    "    f.write(str(N) + '\\n')"
   ]
  }
 ],
 "metadata": {
  "kernelspec": {
   "display_name": "google",
   "language": "python",
   "name": "python3"
  },
  "language_info": {
   "codemirror_mode": {
    "name": "ipython",
    "version": 3
   },
   "file_extension": ".py",
   "mimetype": "text/x-python",
   "name": "python",
   "nbconvert_exporter": "python",
   "pygments_lexer": "ipython3",
   "version": "3.13.2"
  }
 },
 "nbformat": 4,
 "nbformat_minor": 5
}
